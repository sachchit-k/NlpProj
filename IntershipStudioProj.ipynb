{
  "nbformat": 4,
  "nbformat_minor": 0,
  "metadata": {
    "colab": {
      "name": "IntershipStudioProj.ipynb",
      "provenance": [],
      "collapsed_sections": [],
      "mount_file_id": "1zyUB696D5Ahxj2af9pLnyZL_pEZNp0d9",
      "authorship_tag": "ABX9TyPBMEEuff+3h05FI6aRlD+1",
      "include_colab_link": true
    },
    "kernelspec": {
      "name": "python3",
      "display_name": "Python 3"
    },
    "language_info": {
      "name": "python"
    }
  },
  "cells": [
    {
      "cell_type": "markdown",
      "metadata": {
        "id": "view-in-github",
        "colab_type": "text"
      },
      "source": [
        "<a href=\"https://colab.research.google.com/github/sachchit-k/NlpProj/blob/main/IntershipStudioProj.ipynb\" target=\"_parent\"><img src=\"https://colab.research.google.com/assets/colab-badge.svg\" alt=\"Open In Colab\"/></a>"
      ]
    },
    {
      "cell_type": "code",
      "execution_count": 1,
      "metadata": {
        "id": "rI3GHmzFQHkc"
      },
      "outputs": [],
      "source": [
        "import string\n",
        "import re\n",
        "import numpy \n",
        "from numpy import array,argmax,random,take\n",
        "import pandas as pd\n",
        "import keras\n",
        "from keras.models import Sequential\n"
      ]
    },
    {
      "cell_type": "code",
      "source": [
        "from keras.layers import Dense,LSTM,Embedding,Bidirectional,RepeatVector,TimeDistributed\n",
        "from keras.preprocessing.text import Tokenizer\n",
        "from keras.callbacks import ModelCheckpoint\n",
        "from keras.preprocessing.sequence import pad_sequences\n",
        "from keras.models import load_model\n",
        "from keras import optimizers\n",
        "import matplotlib.pyplot as plt\n"
      ],
      "metadata": {
        "id": "ZEU6HzfTQdfN"
      },
      "execution_count": 64,
      "outputs": []
    },
    {
      "cell_type": "code",
      "source": [
        "% matplotlib inline\n",
        "pd.set_option('display.max_colwidth',200)"
      ],
      "metadata": {
        "id": "9desiLZrR6Pg"
      },
      "execution_count": 65,
      "outputs": []
    },
    {
      "cell_type": "markdown",
      "source": [
        "####function for reading the file of eng-deu sentence pairs"
      ],
      "metadata": {
        "id": "Hrbrwk3nSX1-"
      }
    },
    {
      "cell_type": "code",
      "source": [
        "def read_text(filename):\n",
        "  file=open(filename,mode='rt',encoding='utf-8')\n",
        "  text=file.read()\n",
        "  file.close()\n",
        "  return text"
      ],
      "metadata": {
        "id": "_XPbviv-SGCA"
      },
      "execution_count": 66,
      "outputs": []
    },
    {
      "cell_type": "markdown",
      "source": [
        "####spliting text into sentences"
      ],
      "metadata": {
        "id": "SdCl-DbnS9a8"
      }
    },
    {
      "cell_type": "code",
      "source": [
        "def to_lines(text):\n",
        "  sents=text.strip().split('\\n')\n",
        "  sents=[i.split('\\t')for i in sents]\n",
        "  return sents\n"
      ],
      "metadata": {
        "id": "-0qrCh6wSWMy"
      },
      "execution_count": 67,
      "outputs": []
    },
    {
      "cell_type": "code",
      "source": [
        "data=read_text('/content/drive/MyDrive/Proj/1.PROJ/InternshipStudio/deu-eng/deu.txt')\n",
        "deu_eng=to_lines(data)\n",
        "deu_eng=array(deu_eng)"
      ],
      "metadata": {
        "id": "UQYW5WwXTWhD"
      },
      "execution_count": 68,
      "outputs": []
    },
    {
      "cell_type": "code",
      "source": [
        "deu_eng.shape"
      ],
      "metadata": {
        "colab": {
          "base_uri": "https://localhost:8080/"
        },
        "id": "jUcWAoPqVTNi",
        "outputId": "50a0276b-bfa0-464e-f3d0-a45e6e7467ad"
      },
      "execution_count": 69,
      "outputs": [
        {
          "output_type": "execute_result",
          "data": {
            "text/plain": [
              "(248311, 3)"
            ]
          },
          "metadata": {},
          "execution_count": 69
        }
      ]
    },
    {
      "cell_type": "code",
      "source": [
        "deu_eng"
      ],
      "metadata": {
        "colab": {
          "base_uri": "https://localhost:8080/"
        },
        "id": "1OWhZP4sVN8e",
        "outputId": "e2b3b4ea-70e7-4cd8-ad3a-0d605c1c4c6b"
      },
      "execution_count": 70,
      "outputs": [
        {
          "output_type": "execute_result",
          "data": {
            "text/plain": [
              "array([['Go.', 'Geh.',\n",
              "        'CC-BY 2.0 (France) Attribution: tatoeba.org #2877272 (CM) & #8597805 (Roujin)'],\n",
              "       ['Hi.', 'Hallo!',\n",
              "        'CC-BY 2.0 (France) Attribution: tatoeba.org #538123 (CM) & #380701 (cburgmer)'],\n",
              "       ['Hi.', 'Grüß Gott!',\n",
              "        'CC-BY 2.0 (France) Attribution: tatoeba.org #538123 (CM) & #659813 (Esperantostern)'],\n",
              "       ...,\n",
              "       ['It may be impossible to get a completely error-free corpus due to the nature of this kind of collaborative effort. However, if we encourage members to contribute sentences in their own languages rather than experiment in languages they are learning, we might be able to minimize errors.',\n",
              "        'Es ist wohl unmöglich, einen vollkommen fehlerfreien Korpus zu erreichen\\xa0— das liegt in der Natur eines solchen Gemeinschaftsprojekts. Doch wenn wir unsere Mitglieder dazu bringen können, nicht mit Sprachen herumzuexperimentieren, die sie gerade lernen, sondern Sätze in ihrer eigenen Muttersprache beizutragen, dann gelingt es uns vielleicht, die Zahl der Fehler klein zu halten.',\n",
              "        'CC-BY 2.0 (France) Attribution: tatoeba.org #2024159 (CK) & #2174272 (Pfirsichbaeumchen)'],\n",
              "       [\"I know that adding sentences only in your native or strongest language is probably not as much fun as practicing writing foreign languages, but please don't add sentences to the Tatoeba Corpus if you are not absolutely sure they are correct. If you want to practice languages that you are studying, please do so by using a website designed for that purpose such as www.lang-8.com.\",\n",
              "        'Ich weiß wohl, dass das ausschließliche Beitragen von Sätzen in der Muttersprache\\xa0– oder der am besten beherrschten Sprache\\xa0– nicht ganz so viel Spaß macht, wie sich im Schreiben von Fremdsprachen zu üben; steuere beim Tatoeba-Korpus aber bitte trotzdem keine Sätze bei, über deren Korrektheit du dir nicht völlig im Klaren bist. Wenn du Sprachen, die du gerade lernst, üben möchtest, verwende dazu bitte Netzangebote, die eigens hierfür eingerichtet wurden, wie zum Beispiel www.lang-8.com.',\n",
              "        'CC-BY 2.0 (France) Attribution: tatoeba.org #3847634 (CM) & #4878147 (Pfirsichbaeumchen)'],\n",
              "       ['Doubtless there exists in this world precisely the right woman for any given man to marry and vice versa; but when you consider that a human being has the opportunity of being acquainted with only a few hundred people, and out of the few hundred that there are but a dozen or less whom he knows intimately, and out of the dozen, one or two friends at most, it will easily be seen, when we remember the number of millions who inhabit this world, that probably, since the earth was created, the right man has never yet met the right woman.',\n",
              "        'Ohne Zweifel findet sich auf dieser Welt zu jedem Mann genau die richtige Ehefrau und umgekehrt; wenn man jedoch in Betracht zieht, dass ein Mensch nur Gelegenheit hat, mit ein paar hundert anderen bekannt zu sein, von denen ihm nur ein Dutzend oder weniger nahesteht, darunter höchstens ein oder zwei Freunde, dann erahnt man eingedenk der Millionen Einwohner dieser Welt\\xa0leicht, dass seit Erschaffung ebenderselben wohl noch nie der richtige Mann der richtigen Frau begegnet ist.',\n",
              "        'CC-BY 2.0 (France) Attribution: tatoeba.org #7697649 (RM) & #7729416 (Pfirsichbaeumchen)']],\n",
              "      dtype='<U537')"
            ]
          },
          "metadata": {},
          "execution_count": 70
        }
      ]
    },
    {
      "cell_type": "markdown",
      "source": [
        "####considering first 50000 sentence pairs only"
      ],
      "metadata": {
        "id": "Ct3IKZx6Vp9R"
      }
    },
    {
      "cell_type": "code",
      "source": [
        "deu_eng=deu_eng[:50000,:]"
      ],
      "metadata": {
        "id": "KR7VbkydVazZ"
      },
      "execution_count": 71,
      "outputs": []
    },
    {
      "cell_type": "code",
      "source": [
        "deu_eng"
      ],
      "metadata": {
        "colab": {
          "base_uri": "https://localhost:8080/"
        },
        "id": "DFozArWoV5R5",
        "outputId": "8943d33c-b3ef-4ce0-f202-35db371b9de7"
      },
      "execution_count": 72,
      "outputs": [
        {
          "output_type": "execute_result",
          "data": {
            "text/plain": [
              "array([['Go.', 'Geh.',\n",
              "        'CC-BY 2.0 (France) Attribution: tatoeba.org #2877272 (CM) & #8597805 (Roujin)'],\n",
              "       ['Hi.', 'Hallo!',\n",
              "        'CC-BY 2.0 (France) Attribution: tatoeba.org #538123 (CM) & #380701 (cburgmer)'],\n",
              "       ['Hi.', 'Grüß Gott!',\n",
              "        'CC-BY 2.0 (France) Attribution: tatoeba.org #538123 (CM) & #659813 (Esperantostern)'],\n",
              "       ...,\n",
              "       [\"Tom isn't my husband.\", 'Tom ist nicht mein Ehemann.',\n",
              "        'CC-BY 2.0 (France) Attribution: tatoeba.org #5938363 (CK) & #8056099 (Luiaard)'],\n",
              "       [\"Tom isn't my husband.\", 'Tom ist nicht mein Ehegatte.',\n",
              "        'CC-BY 2.0 (France) Attribution: tatoeba.org #5938363 (CK) & #8056100 (Luiaard)'],\n",
              "       [\"Tom isn't my husband.\", 'Tom ist nicht mein Gatte.',\n",
              "        'CC-BY 2.0 (France) Attribution: tatoeba.org #5938363 (CK) & #8056101 (Luiaard)']],\n",
              "      dtype='<U537')"
            ]
          },
          "metadata": {},
          "execution_count": 72
        }
      ]
    },
    {
      "cell_type": "markdown",
      "source": [
        "####Text to sequence conversion:"
      ],
      "metadata": {
        "id": "SdSeCu4WJwnA"
      }
    },
    {
      "cell_type": "code",
      "source": [
        "#empty lists\n",
        "eng_l=[]\n",
        "deu_l=[]\n",
        "\n",
        "#populate the lists with sentence lengths\n",
        "for i in deu_eng[:,0]:\n",
        "  eng_l.append(len(i.split()))\n",
        "\n",
        "for i in deu_eng[:,1]:\n",
        "  deu_l.append(len(i.split()))\n"
      ],
      "metadata": {
        "id": "kCtL38lsV86h"
      },
      "execution_count": 73,
      "outputs": []
    },
    {
      "cell_type": "code",
      "source": [
        "length_df=pd.DataFrame({'eng':eng_l,'deu':deu_l})"
      ],
      "metadata": {
        "id": "MQiosfAaKmN_"
      },
      "execution_count": 74,
      "outputs": []
    },
    {
      "cell_type": "code",
      "source": [
        "length_df.hist(bins=30)\n",
        "plt.show()"
      ],
      "metadata": {
        "colab": {
          "base_uri": "https://localhost:8080/",
          "height": 281
        },
        "id": "za-dsM2WLtQB",
        "outputId": "1ce33303-a82f-4984-9432-1b053c1a54ad"
      },
      "execution_count": 75,
      "outputs": [
        {
          "output_type": "display_data",
          "data": {
            "image/png": "[encoded data removed]",
            "text/plain": [
              "<Figure size 432x288 with 2 Axes>"
            ]
          },
          "metadata": {
            "needs_background": "light"
          }
        }
      ]
    },
    {
      "cell_type": "markdown",
      "source": [
        "####Using keras tokenizer sent-->seq of integer\n",
        "####then we will pad those sequence with zeros to make all the sequcences of same length"
      ],
      "metadata": {
        "id": "bvo3BRXHMQf6"
      }
    },
    {
      "cell_type": "code",
      "source": [
        "#function tp build a tokenizer\n",
        "def tokenization(lines):\n",
        "  tokenizer=Tokenizer()\n",
        "  tokenizer.fit_on_texts(lines)\n",
        "  return tokenizer"
      ],
      "metadata": {
        "id": "6JNx6p8qL1Uc"
      },
      "execution_count": 76,
      "outputs": []
    },
    {
      "cell_type": "code",
      "source": [
        "#preparing english tokenizer\n",
        "eng_tokenizer=tokenization(deu_eng[:,0])\n",
        "eng_vocab_size=len(eng_tokenizer.word_index)+1\n",
        "eng_length=8"
      ],
      "metadata": {
        "id": "PYdU4Yp1NGdF"
      },
      "execution_count": 77,
      "outputs": []
    },
    {
      "cell_type": "code",
      "source": [
        "print('English Vocabulary size: %d'% eng_vocab_size)"
      ],
      "metadata": {
        "colab": {
          "base_uri": "https://localhost:8080/"
        },
        "id": "zKQpYC95NK37",
        "outputId": "c526e90a-6b09-4abf-defa-30b3aaf2515f"
      },
      "execution_count": 78,
      "outputs": [
        {
          "output_type": "stream",
          "name": "stdout",
          "text": [
            "English Vocabulary size: 6122\n"
          ]
        }
      ]
    },
    {
      "cell_type": "code",
      "source": [
        "#preparing Deutch tokenizer\n",
        "deu_tokenizer=tokenization(deu_eng[:,1])\n",
        "deu_vocab_size=len(deu_tokenizer.word_index)+1\n",
        "deu_length=8\n",
        "print('Deutch Vocabulary Size: %d' %deu_vocab_size)"
      ],
      "metadata": {
        "colab": {
          "base_uri": "https://localhost:8080/"
        },
        "id": "aulBxNb9S06l",
        "outputId": "77d89b65-f99c-455f-9586-fc31242bf300"
      },
      "execution_count": 79,
      "outputs": [
        {
          "output_type": "stream",
          "name": "stdout",
          "text": [
            "Deutch Vocabulary Size: 10076\n"
          ]
        }
      ]
    },
    {
      "cell_type": "markdown",
      "source": [
        "####function to prepare sequences.also to perform sequence padding"
      ],
      "metadata": {
        "id": "CngqX_pnVOnt"
      }
    },
    {
      "cell_type": "code",
      "source": [
        "#encoding and pad sequences\n",
        "def encode_sequences(tokenizer,length,lines):\n",
        "  #integer encode sequences\n",
        "  seq=tokenizer.texts_to_sequences(lines)\n",
        "  #pad sequences with 0 values\n",
        "  seq=pad_sequences(seq,maxlen=length,padding='post')\n",
        "  return seq"
      ],
      "metadata": {
        "id": "LJ5iOjoqVLTG"
      },
      "execution_count": 80,
      "outputs": []
    },
    {
      "cell_type": "markdown",
      "source": [
        "####model bulding"
      ],
      "metadata": {
        "id": "39jBxWnkUB3G"
      }
    },
    {
      "cell_type": "code",
      "source": [
        "from sklearn.model_selection import train_test_split\n",
        "train,test=train_test_split(deu_eng,test_size=0.2,random_state=12)"
      ],
      "metadata": {
        "id": "GwEVAVFgTIJc"
      },
      "execution_count": 81,
      "outputs": []
    },
    {
      "cell_type": "markdown",
      "source": [
        "####encoding and decoding part\n"
      ],
      "metadata": {
        "id": "GPo_kSUaUTNH"
      }
    },
    {
      "cell_type": "code",
      "source": [
        "#preparing training data\n",
        "trainX=encode_sequences(deu_tokenizer,deu_length,train[:,1])\n",
        "trainY=encode_sequences(eng_tokenizer,eng_length,train[:,0])"
      ],
      "metadata": {
        "id": "auvkdIFJUQ5I"
      },
      "execution_count": 82,
      "outputs": []
    },
    {
      "cell_type": "code",
      "source": [
        "#preparing validation data\n",
        "testX=encode_sequences(deu_tokenizer,deu_length,test[:,1])\n",
        "testY=encode_sequences(eng_tokenizer,eng_length,test[:,0])"
      ],
      "metadata": {
        "id": "yxaHWldtU_nM"
      },
      "execution_count": 83,
      "outputs": []
    },
    {
      "cell_type": "markdown",
      "source": [
        "####creating seq to seq model architechtiure\n",
        "####2 lsmt layer as encoder and decoder"
      ],
      "metadata": {
        "id": "znFTwrH8XVUQ"
      }
    },
    {
      "cell_type": "code",
      "source": [
        "from keras.layers import Embedding, Input\n",
        "from keras import Model\n",
        "from tensorflow.keras import optimizers"
      ],
      "metadata": {
        "id": "oj6ibkkrblDC"
      },
      "execution_count": 84,
      "outputs": []
    },
    {
      "cell_type": "code",
      "source": [
        "#built in nmt model\n",
        "def build_model(in_vocab, out_vocab, in_timesteps, out_timesteps, units):\n",
        "  model=Sequential()\n",
        "  model.add(Embedding(in_vocab,units,input_length=in_timesteps))\n",
        "  model.add(LSTM(units))\n",
        "  model.add(RepeatVector(out_timesteps))\n",
        "  model.add(LSTM(units,return_sequences=True))\n",
        "  model.add(Dense(out_vocab,activation='softmax'))\n",
        "  return model\n"
      ],
      "metadata": {
        "id": "FqlhdTUDXE8Y"
      },
      "execution_count": 85,
      "outputs": []
    },
    {
      "cell_type": "markdown",
      "source": [
        "####using rmsprop optimizer"
      ],
      "metadata": {
        "id": "JEgl2797Zh6L"
      }
    },
    {
      "cell_type": "code",
      "source": [
        "model=build_model(deu_vocab_size, eng_vocab_size, deu_length, eng_length, 512)\n",
        "rms= optimizers.RMSprop(learning_rate=0.001)\n",
        "model.compile(optimizer=rms,loss='sparse_categorical_crossentropy')\n",
        "\n",
        "# model = build_model(deu_vocab_size, eng_vocab_size, deu_length, eng_length, 512)\n",
        "# rms = optimizers.RMSprop(lr=0.001)\n",
        "# model.compile(optimizer=rms, loss='sparse_categorical_crossentropy')"
      ],
      "metadata": {
        "id": "vjVxc1IkZC5r"
      },
      "execution_count": 86,
      "outputs": []
    },
    {
      "cell_type": "code",
      "source": [
        "# filename='model.h1.24_sachchit'\n",
        "# checkpoint=ModelCheckpoint(filename,monitor='val_loss',verbose=1,save_best_only=True,mode='min')\n",
        "\n",
        "# history=model.fit(trainX,trainY.reshape(trainY.shape[0],trainY.shape[1],1),\n",
        "#                   epochs=5,batch_size=512,\n",
        "#                   validation_split=0.2,\n",
        "#                   callbacks=[checkpoint],verbose=1)"
      ],
      "metadata": {
        "id": "XfMM8mP2Z-Pb"
      },
      "execution_count": 87,
      "outputs": []
    },
    {
      "cell_type": "markdown",
      "source": [
        "####Comparing traing loss and validation loss"
      ],
      "metadata": {
        "id": "3ucynWkAzYXD"
      }
    },
    {
      "cell_type": "code",
      "source": [
        "# plt.plot(history.history['loss'])\n",
        "# plt.plot(history.history['val_loss'])\n",
        "# plt.legend(['train','validation'])\n",
        "# plt.show()"
      ],
      "metadata": {
        "id": "8woFU8--zXOd"
      },
      "execution_count": 88,
      "outputs": []
    },
    {
      "cell_type": "markdown",
      "source": [
        "####loding the saved model"
      ],
      "metadata": {
        "id": "mhyPE-cfz0Jz"
      }
    },
    {
      "cell_type": "code",
      "source": [
        "# import numpy as np"
      ],
      "metadata": {
        "id": "te4T90is1Hu6"
      },
      "execution_count": 89,
      "outputs": []
    },
    {
      "cell_type": "code",
      "source": [
        "# !pip install tensorflow==2.5.0\n"
      ],
      "metadata": {
        "id": "FkkL0cLb9By9"
      },
      "execution_count": 90,
      "outputs": []
    },
    {
      "cell_type": "code",
      "source": [
        "import tensorflow\n",
        "print(tensorflow.__version__)"
      ],
      "metadata": {
        "colab": {
          "base_uri": "https://localhost:8080/"
        },
        "id": "H0extUDV8_s3",
        "outputId": "56c1e69d-d7df-40ca-f3b5-a4448fdae560"
      },
      "execution_count": 91,
      "outputs": [
        {
          "output_type": "stream",
          "name": "stdout",
          "text": [
            "2.7.0\n"
          ]
        }
      ]
    },
    {
      "cell_type": "code",
      "source": [
        "model=load_model('/content/drive/MyDrive/Proj/1.PROJ/InternshipStudio/model.h1.24_sachchit')\n",
        "# predict_x=model.predict(X_test) \n",
        "# classes_x=np.argmax(predict_x,axis=1)\n",
        "# preds = model.predict_classes(testX.reshape((testX.shape[0],testX.shape[1])))\n"
      ],
      "metadata": {
        "id": "WrH4G4DjzxFm"
      },
      "execution_count": 92,
      "outputs": []
    },
    {
      "cell_type": "code",
      "source": [
        "testX=testX.reshape(testX.shape[0],testX.shape[1])"
      ],
      "metadata": {
        "id": "jR56BI2lY1B7"
      },
      "execution_count": 93,
      "outputs": []
    },
    {
      "cell_type": "code",
      "source": [
        "# preds= (model.predict(testX.reshape((testX.shape[0],testY.shape[0])))).astype(\"float64\")\n",
        "preds = model.predict(testX).astype(\"int32\")\n"
      ],
      "metadata": {
        "id": "lcJFyayMFtnC"
      },
      "execution_count": null,
      "outputs": []
    },
    {
      "cell_type": "code",
      "source": [
        "preds.shape"
      ],
      "metadata": {
        "id": "EcRqhAcza9uw"
      },
      "execution_count": null,
      "outputs": []
    },
    {
      "cell_type": "code",
      "source": [
        "testX.shape"
      ],
      "metadata": {
        "id": "-vNe7XLEYJAs"
      },
      "execution_count": null,
      "outputs": []
    },
    {
      "cell_type": "code",
      "source": [
        "testY.shape"
      ],
      "metadata": {
        "id": "L0AX8LiNUMv7"
      },
      "execution_count": null,
      "outputs": []
    },
    {
      "cell_type": "code",
      "source": [
        "def get_word(n,tokenizer):\n",
        "  for word,index in tokenizer.word_index.items():\n",
        "    if index==n:\n",
        "      return word\n",
        "  return None"
      ],
      "metadata": {
        "id": "pLHf4UO20Q7D"
      },
      "execution_count": null,
      "outputs": []
    },
    {
      "cell_type": "code",
      "source": [
        "#converting prediction into text(English)\n",
        "  #np.allclose(A.dot(eig_vec[:,col]), eig_val[col] * eig_vec[:,col])\n",
        "  #assert (A.dot(eig_vec[:,col])) == (eig_val[col] * eig_vec[:,col])\n",
        "  # if (z <= z_tbl[i+1]):\n",
        "  # if (z <= z_tbl.item(i+1)):\n",
        "preds_text=[]\n",
        "for i in preds:\n",
        "  temp=[]\n",
        "  for j in range(len(i)):\n",
        "    t=get_word(i[j].all(),eng_tokenizer)\n",
        "    if j>0:\n",
        "      if (t==get_word(i[j-1].all(),eng_tokenizer))or(t== None):\n",
        "        temp.append('')\n",
        "      else:\n",
        "        temp.append(t)\n",
        "\n",
        "    else:\n",
        "        if(t==None):\n",
        "            temp.append('')\n",
        "        else:\n",
        "            temp.append(t)\n",
        "\n",
        "preds_text.append(' '.join(temp))\n"
      ],
      "metadata": {
        "id": "-93ROCZs3GHK"
      },
      "execution_count": null,
      "outputs": []
    },
    {
      "cell_type": "code",
      "source": [
        "preds_text"
      ],
      "metadata": {
        "id": "1W5KVYHQdOsd"
      },
      "execution_count": null,
      "outputs": []
    },
    {
      "cell_type": "code",
      "source": [
        "len(i),eng_length,deu_length,eng_vocab_size,deu_vocab_size"
      ],
      "metadata": {
        "id": "0WH6In1B7dsf"
      },
      "execution_count": null,
      "outputs": []
    },
    {
      "cell_type": "code",
      "source": [
        "len(preds_text),len(test)"
      ],
      "metadata": {
        "id": "B-rVGqLHDgUk"
      },
      "execution_count": null,
      "outputs": []
    },
    {
      "cell_type": "code",
      "source": [
        " pred_df=pd.DataFrame({'actual':test[:,0],'predicted':preds_text})"
      ],
      "metadata": {
        "id": "RsAJ6mEg4li4"
      },
      "execution_count": null,
      "outputs": []
    },
    {
      "cell_type": "code",
      "source": [
        "pd.set_option('display.max_colwidth',200)"
      ],
      "metadata": {
        "id": "pLdbgR8fba1j"
      },
      "execution_count": null,
      "outputs": []
    },
    {
      "cell_type": "code",
      "source": [
        "pred_df.shape"
      ],
      "metadata": {
        "id": "qZKuzZjtb-pu"
      },
      "execution_count": null,
      "outputs": []
    },
    {
      "cell_type": "code",
      "source": [
        "pred_df.head()"
      ],
      "metadata": {
        "id": "QzINmZJRcBm2"
      },
      "execution_count": null,
      "outputs": []
    },
    {
      "cell_type": "code",
      "source": [
        ""
      ],
      "metadata": {
        "id": "oEOYfik_cPbI"
      },
      "execution_count": null,
      "outputs": []
    }
  ]
}
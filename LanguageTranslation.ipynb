{
  "nbformat": 4,
  "nbformat_minor": 0,
  "metadata": {
    "colab": {
      "name": "LanguageTranslation.ipynb",
      "provenance": [],
      "collapsed_sections": [],
      "authorship_tag": "ABX9TyNZpAa8kbtD9t8CAeD7d5pE",
      "include_colab_link": true
    },
    "kernelspec": {
      "name": "python3",
      "display_name": "Python 3"
    },
    "language_info": {
      "name": "python"
    }
  },
  "cells": [
    {
      "cell_type": "markdown",
      "metadata": {
        "id": "view-in-github",
        "colab_type": "text"
      },
      "source": [
        "<a href=\"https://colab.research.google.com/github/sachchit-k/NlpProj/blob/main/LanguageTranslation.ipynb\" target=\"_parent\"><img src=\"https://colab.research.google.com/assets/colab-badge.svg\" alt=\"Open In Colab\"/></a>"
      ]
    },
    {
      "cell_type": "markdown",
      "source": [
        "# Using TenserFlow\n"
      ],
      "metadata": {
        "id": "UUKVx0oy5Eog"
      }
    },
    {
      "cell_type": "code",
      "execution_count": 13,
      "metadata": {
        "id": "ZMq7E7AMv5BR"
      },
      "outputs": [],
      "source": [
        "from __future__ import print_function\n",
        "\n",
        "from keras.models import Model\n",
        "from keras.layers import Input, LSTM, Dense\n",
        "import numpy as np"
      ]
    },
    {
      "cell_type": "code",
      "source": [
        "batch_size = 64  # Batch size for training.\n",
        "epochs = 100  # Number of epochs to train for.\n",
        "latent_dim = 256  # Latent dimensionality of the encoding space.\n",
        "num_samples = 10000  # Number of samples to train on.\n",
        "# Path to the data txt file on disk.\n",
        "data_path = '/content/drive/MyDrive/Proj/1.PROJ/InternshipStudio/deu-eng/deu.txt'\n"
      ],
      "metadata": {
        "id": "lZH6eqVj2RHu"
      },
      "execution_count": 14,
      "outputs": []
    },
    {
      "cell_type": "code",
      "source": [
        "# Vectorize the data.\n",
        "input_texts = []\n",
        "target_texts = []\n",
        "input_characters = set()\n",
        "target_characters = set()\n",
        "with open(data_path, 'r', encoding='utf-8') as f:\n",
        "    lines = f.read().split('\\n')"
      ],
      "metadata": {
        "id": "aHeNJeCA2S1R"
      },
      "execution_count": 15,
      "outputs": []
    },
    {
      "cell_type": "code",
      "source": [
        "from google.colab import drive\n",
        "drive.mount('/content/drive')"
      ],
      "metadata": {
        "colab": {
          "base_uri": "https://localhost:8080/"
        },
        "id": "uMCbi4Rl3-hq",
        "outputId": "fc40210e-ea58-4c90-a578-6f65cd9ddb03"
      },
      "execution_count": 16,
      "outputs": [
        {
          "output_type": "stream",
          "name": "stdout",
          "text": [
            "Drive already mounted at /content/drive; to attempt to forcibly remount, call drive.mount(\"/content/drive\", force_remount=True).\n"
          ]
        }
      ]
    },
    {
      "cell_type": "code",
      "source": [
        "for line in lines[: min(num_samples, len(lines) - 1)]:\n",
        "    input_text, target_text, _ = line.split('\\t')\n",
        "    # We use \"tab\" as the \"start sequence\" character\n",
        "    # for the targets, and \"\\n\" as \"end sequence\" character.\n",
        "    target_text = '\\t' + target_text + '\\n'\n",
        "    input_texts.append(input_text)\n",
        "    target_texts.append(target_text)\n",
        "    for char in input_text:\n",
        "        if char not in input_characters:\n",
        "            input_characters.add(char)\n",
        "    for char in target_text:\n",
        "        if char not in target_characters:\n",
        "            target_characters.add(char)"
      ],
      "metadata": {
        "id": "TivATaZz3_9z"
      },
      "execution_count": 17,
      "outputs": []
    },
    {
      "cell_type": "code",
      "source": [
        "input_characters = sorted(list(input_characters))\n",
        "target_characters = sorted(list(target_characters))\n",
        "num_encoder_tokens = len(input_characters)\n",
        "num_decoder_tokens = len(target_characters)\n",
        "max_encoder_seq_length = max([len(txt) for txt in input_texts])\n",
        "max_decoder_seq_length = max([len(txt) for txt in target_texts])"
      ],
      "metadata": {
        "id": "JJw4vSXj4pxp"
      },
      "execution_count": 18,
      "outputs": []
    },
    {
      "cell_type": "code",
      "source": [
        "print('Number of samples:', len(input_texts))\n",
        "print('Number of unique input tokens:', num_encoder_tokens)\n",
        "print('Number of unique output tokens:', num_decoder_tokens)\n",
        "print('Max sequence length for inputs:', max_encoder_seq_length)\n",
        "print('Max sequence length for outputs:', max_decoder_seq_length)"
      ],
      "metadata": {
        "colab": {
          "base_uri": "https://localhost:8080/"
        },
        "id": "ku8fKt_n4rkR",
        "outputId": "9a8d3169-20e6-4d37-9faf-ee9b724d2020"
      },
      "execution_count": 19,
      "outputs": [
        {
          "output_type": "stream",
          "name": "stdout",
          "text": [
            "Number of samples: 10000\n",
            "Number of unique input tokens: 70\n",
            "Number of unique output tokens: 83\n",
            "Max sequence length for inputs: 15\n",
            "Max sequence length for outputs: 51\n"
          ]
        }
      ]
    },
    {
      "cell_type": "code",
      "source": [
        "input_token_index = dict(\n",
        "    [(char, i) for i, char in enumerate(input_characters)])\n",
        "target_token_index = dict(\n",
        "    [(char, i) for i, char in enumerate(target_characters)])"
      ],
      "metadata": {
        "id": "9Jcogzu74tCs"
      },
      "execution_count": 20,
      "outputs": []
    },
    {
      "cell_type": "code",
      "source": [
        "\"\"\"Turn the sentences into 3 Numpy arrays, encoder_input_data, decoder_input_data, decoder_target_data:\n",
        "\n",
        "encoder_input_data is a 3D array of shape (num_pairs, max_english_sentence_length, num_english_characters) containing a one-hot vectorization of the English sentences\n",
        "decoder_input_data is a 3D array of shape (num_pairs, max_french_sentence_length, num_french_characters) containing a one-hot vectorization of the French sentences\n",
        "decoder_target_data is the same as decoder_input_data but offset by one timestep. decoder_target_data[:, t, :] will be the same as decoder_input_data[:, t + 1, :]\n",
        "\"\"\"\n",
        "\n",
        "encoder_input_data = np.zeros((len(input_texts), max_encoder_seq_length, num_encoder_tokens),dtype='float32')\n",
        "decoder_input_data = np.zeros((len(input_texts), max_decoder_seq_length, num_decoder_tokens),dtype='float32')\n",
        "decoder_target_data = np.zeros((len(input_texts), max_decoder_seq_length, num_decoder_tokens),dtype='float32')\n",
        "\n",
        "##\n",
        "\n",
        "\n",
        "for i, (input_text, target_text) in enumerate(zip(input_texts, target_texts)):\n",
        "    for t, char in enumerate(input_text):\n",
        "        encoder_input_data[i, t, input_token_index[char]] = 1.\n",
        "    encoder_input_data[i, t + 1:, input_token_index[' ']] = 1.\n",
        "    for t, char in enumerate(target_text):\n",
        "        # decoder_target_data is ahead of decoder_input_data by one timestep\n",
        "        decoder_input_data[i, t, target_token_index[char]] = 1.\n",
        "        if t > 0:\n",
        "            # decoder_target_data will be ahead by one timestep\n",
        "            # and will not include the start character.\n",
        "            decoder_target_data[i, t - 1, target_token_index[char]] = 1.\n",
        "    decoder_input_data[i, t + 1:, target_token_index[' ']] = 1.\n",
        "    decoder_target_data[i, t:, target_token_index[' ']] = 1."
      ],
      "metadata": {
        "id": "yaSu3J-M4vrz"
      },
      "execution_count": 21,
      "outputs": []
    },
    {
      "cell_type": "code",
      "source": [
        "# Define an input sequence and process it.\n",
        "encoder_inputs = Input(shape=(None, num_encoder_tokens))\n",
        "encoder = LSTM(latent_dim, return_state=True)\n",
        "encoder_outputs, state_h, state_c = encoder(encoder_inputs)\n",
        "# We discard `encoder_outputs` and only keep the states.\n",
        "encoder_states = [state_h, state_c]"
      ],
      "metadata": {
        "id": "1_suX2B041ep"
      },
      "execution_count": 22,
      "outputs": []
    },
    {
      "cell_type": "code",
      "source": [
        "# Set up the decoder, using `encoder_states` as initial state.\n",
        "decoder_inputs = Input(shape=(None, num_decoder_tokens))\n",
        "# We set up our decoder to return full output sequences,\n",
        "# and to return internal states as well. We don't use the\n",
        "# return states in the training model, but we will use them in inference.\n",
        "decoder_lstm = LSTM(latent_dim, return_sequences=True, return_state=True)\n",
        "decoder_outputs, _, _ = decoder_lstm(decoder_inputs,\n",
        "                                     initial_state=encoder_states)\n",
        "decoder_dense = Dense(num_decoder_tokens, activation='softmax')\n",
        "decoder_outputs = decoder_dense(decoder_outputs)"
      ],
      "metadata": {
        "id": "OEzSzLz-47ex"
      },
      "execution_count": 23,
      "outputs": []
    },
    {
      "cell_type": "code",
      "source": [
        "#Train a basic LSTM-based Seq2Seq model to predict decoder_target_data given encoder_input_data and decoder_input_data\n",
        "\n",
        "# Define the model that will turn\n",
        "# `encoder_input_data` & `decoder_input_data` into `decoder_target_data`\n",
        "model = Model([encoder_inputs, decoder_inputs], decoder_outputs)"
      ],
      "metadata": {
        "id": "T7noB77Y49Rb"
      },
      "execution_count": 24,
      "outputs": []
    },
    {
      "cell_type": "code",
      "source": [
        "# Run training\n",
        "model.compile(optimizer='rmsprop', loss='categorical_crossentropy',\n",
        "              metrics=['accuracy'])\n",
        "model.fit([encoder_input_data, decoder_input_data], decoder_target_data,\n",
        "          batch_size=batch_size,\n",
        "          epochs=epochs,\n",
        "          validation_split=0.2)\n",
        "# Save model\n",
        "model.save('s2s.h5')"
      ],
      "metadata": {
        "colab": {
          "base_uri": "https://localhost:8080/"
        },
        "id": "jsbZypey4_GP",
        "outputId": "37b9522f-cb73-4d84-9fca-d73663780aad"
      },
      "execution_count": null,
      "outputs": [
        {
          "output_type": "stream",
          "name": "stdout",
          "text": [
            "Epoch 1/100\n",
            "125/125 [==============================] - 41s 295ms/step - loss: 1.3126 - accuracy: 0.6844 - val_loss: 1.3849 - val_accuracy: 0.6636\n",
            "Epoch 2/100\n",
            "125/125 [==============================] - 37s 295ms/step - loss: 0.9178 - accuracy: 0.7549 - val_loss: 0.9597 - val_accuracy: 0.7352\n",
            "Epoch 3/100\n",
            "125/125 [==============================] - 40s 317ms/step - loss: 0.7211 - accuracy: 0.8007 - val_loss: 0.8031 - val_accuracy: 0.7727\n",
            "Epoch 4/100\n",
            "125/125 [==============================] - 38s 302ms/step - loss: 0.6270 - accuracy: 0.8212 - val_loss: 0.7400 - val_accuracy: 0.7902\n",
            "Epoch 5/100\n",
            "125/125 [==============================] - 37s 297ms/step - loss: 0.5709 - accuracy: 0.8361 - val_loss: 0.7074 - val_accuracy: 0.7968\n",
            "Epoch 6/100\n",
            "125/125 [==============================] - 37s 296ms/step - loss: 0.5318 - accuracy: 0.8465 - val_loss: 0.6647 - val_accuracy: 0.8094\n",
            "Epoch 7/100\n",
            "125/125 [==============================] - 37s 297ms/step - loss: 0.4998 - accuracy: 0.8554 - val_loss: 0.6469 - val_accuracy: 0.8129\n",
            "Epoch 8/100\n",
            "125/125 [==============================] - 36s 292ms/step - loss: 0.4740 - accuracy: 0.8629 - val_loss: 0.6133 - val_accuracy: 0.8245\n",
            "Epoch 9/100\n",
            "125/125 [==============================] - 37s 293ms/step - loss: 0.4516 - accuracy: 0.8693 - val_loss: 0.5974 - val_accuracy: 0.8298\n",
            "Epoch 10/100\n",
            "125/125 [==============================] - 37s 292ms/step - loss: 0.4323 - accuracy: 0.8747 - val_loss: 0.5874 - val_accuracy: 0.8322\n",
            "Epoch 11/100\n",
            "125/125 [==============================] - 37s 292ms/step - loss: 0.4146 - accuracy: 0.8794 - val_loss: 0.5827 - val_accuracy: 0.8332\n",
            "Epoch 12/100\n",
            "125/125 [==============================] - 37s 292ms/step - loss: 0.3983 - accuracy: 0.8841 - val_loss: 0.5668 - val_accuracy: 0.8369\n",
            "Epoch 13/100\n",
            "125/125 [==============================] - 37s 293ms/step - loss: 0.3828 - accuracy: 0.8885 - val_loss: 0.5566 - val_accuracy: 0.8416\n",
            "Epoch 14/100\n",
            "125/125 [==============================] - 37s 292ms/step - loss: 0.3692 - accuracy: 0.8925 - val_loss: 0.5529 - val_accuracy: 0.8412\n",
            "Epoch 15/100\n",
            "125/125 [==============================] - 36s 288ms/step - loss: 0.3560 - accuracy: 0.8961 - val_loss: 0.5462 - val_accuracy: 0.8446\n",
            "Epoch 16/100\n",
            "125/125 [==============================] - 36s 287ms/step - loss: 0.3439 - accuracy: 0.9000 - val_loss: 0.5462 - val_accuracy: 0.8453\n",
            "Epoch 17/100\n",
            "125/125 [==============================] - 36s 289ms/step - loss: 0.3320 - accuracy: 0.9032 - val_loss: 0.5362 - val_accuracy: 0.8495\n",
            "Epoch 18/100\n",
            "125/125 [==============================] - 36s 289ms/step - loss: 0.3209 - accuracy: 0.9060 - val_loss: 0.5374 - val_accuracy: 0.8489\n",
            "Epoch 19/100\n",
            "125/125 [==============================] - 36s 291ms/step - loss: 0.3104 - accuracy: 0.9094 - val_loss: 0.5309 - val_accuracy: 0.8507\n",
            "Epoch 20/100\n",
            "125/125 [==============================] - 37s 295ms/step - loss: 0.3001 - accuracy: 0.9126 - val_loss: 0.5310 - val_accuracy: 0.8518\n",
            "Epoch 21/100\n",
            "125/125 [==============================] - 36s 290ms/step - loss: 0.2906 - accuracy: 0.9152 - val_loss: 0.5323 - val_accuracy: 0.8517\n",
            "Epoch 22/100\n",
            "125/125 [==============================] - 36s 290ms/step - loss: 0.2808 - accuracy: 0.9182 - val_loss: 0.5368 - val_accuracy: 0.8524\n",
            "Epoch 23/100\n",
            "125/125 [==============================] - 36s 290ms/step - loss: 0.2718 - accuracy: 0.9211 - val_loss: 0.5335 - val_accuracy: 0.8525\n",
            "Epoch 24/100\n",
            "125/125 [==============================] - 36s 288ms/step - loss: 0.2638 - accuracy: 0.9234 - val_loss: 0.5361 - val_accuracy: 0.8534\n",
            "Epoch 25/100\n",
            "125/125 [==============================] - 36s 289ms/step - loss: 0.2556 - accuracy: 0.9257 - val_loss: 0.5414 - val_accuracy: 0.8534\n",
            "Epoch 26/100\n",
            "125/125 [==============================] - 36s 290ms/step - loss: 0.2474 - accuracy: 0.9284 - val_loss: 0.5385 - val_accuracy: 0.8540\n",
            "Epoch 27/100\n",
            "125/125 [==============================] - 36s 289ms/step - loss: 0.2403 - accuracy: 0.9304 - val_loss: 0.5444 - val_accuracy: 0.8546\n",
            "Epoch 28/100\n",
            "125/125 [==============================] - 36s 288ms/step - loss: 0.2327 - accuracy: 0.9326 - val_loss: 0.5480 - val_accuracy: 0.8530\n",
            "Epoch 29/100\n",
            "125/125 [==============================] - 36s 289ms/step - loss: 0.2255 - accuracy: 0.9349 - val_loss: 0.5480 - val_accuracy: 0.8541\n",
            "Epoch 30/100\n",
            "125/125 [==============================] - 36s 290ms/step - loss: 0.2188 - accuracy: 0.9366 - val_loss: 0.5501 - val_accuracy: 0.8553\n",
            "Epoch 31/100\n",
            "125/125 [==============================] - 36s 291ms/step - loss: 0.2130 - accuracy: 0.9383 - val_loss: 0.5556 - val_accuracy: 0.8540\n",
            "Epoch 32/100\n",
            "125/125 [==============================] - 36s 290ms/step - loss: 0.2062 - accuracy: 0.9405 - val_loss: 0.5651 - val_accuracy: 0.8528\n",
            "Epoch 33/100\n",
            "125/125 [==============================] - 37s 292ms/step - loss: 0.2007 - accuracy: 0.9419 - val_loss: 0.5644 - val_accuracy: 0.8551\n",
            "Epoch 34/100\n",
            "125/125 [==============================] - 36s 291ms/step - loss: 0.1948 - accuracy: 0.9437 - val_loss: 0.5667 - val_accuracy: 0.8549\n",
            "Epoch 35/100\n",
            "125/125 [==============================] - 36s 290ms/step - loss: 0.1893 - accuracy: 0.9451 - val_loss: 0.5754 - val_accuracy: 0.8544\n",
            "Epoch 36/100\n",
            "125/125 [==============================] - 37s 292ms/step - loss: 0.1844 - accuracy: 0.9466 - val_loss: 0.5794 - val_accuracy: 0.8540\n",
            "Epoch 37/100\n",
            "125/125 [==============================] - 36s 292ms/step - loss: 0.1790 - accuracy: 0.9485 - val_loss: 0.5852 - val_accuracy: 0.8546\n",
            "Epoch 38/100\n",
            "125/125 [==============================] - 37s 293ms/step - loss: 0.1741 - accuracy: 0.9495 - val_loss: 0.5854 - val_accuracy: 0.8549\n",
            "Epoch 39/100\n",
            "125/125 [==============================] - 37s 293ms/step - loss: 0.1699 - accuracy: 0.9508 - val_loss: 0.5941 - val_accuracy: 0.8540\n",
            "Epoch 40/100\n",
            "125/125 [==============================] - 37s 292ms/step - loss: 0.1653 - accuracy: 0.9521 - val_loss: 0.6002 - val_accuracy: 0.8546\n",
            "Epoch 41/100\n",
            "125/125 [==============================] - 36s 291ms/step - loss: 0.1607 - accuracy: 0.9535 - val_loss: 0.6038 - val_accuracy: 0.8531\n",
            "Epoch 42/100\n",
            "125/125 [==============================] - 36s 291ms/step - loss: 0.1570 - accuracy: 0.9546 - val_loss: 0.6078 - val_accuracy: 0.8541\n",
            "Epoch 43/100\n",
            "125/125 [==============================] - 37s 293ms/step - loss: 0.1529 - accuracy: 0.9556 - val_loss: 0.6191 - val_accuracy: 0.8530\n",
            "Epoch 44/100\n",
            "125/125 [==============================] - 37s 294ms/step - loss: 0.1490 - accuracy: 0.9570 - val_loss: 0.6187 - val_accuracy: 0.8539\n",
            "Epoch 45/100\n",
            "125/125 [==============================] - 37s 293ms/step - loss: 0.1457 - accuracy: 0.9578 - val_loss: 0.6331 - val_accuracy: 0.8529\n",
            "Epoch 46/100\n",
            "125/125 [==============================] - 37s 292ms/step - loss: 0.1421 - accuracy: 0.9588 - val_loss: 0.6376 - val_accuracy: 0.8535\n",
            "Epoch 47/100\n",
            "125/125 [==============================] - 37s 293ms/step - loss: 0.1386 - accuracy: 0.9597 - val_loss: 0.6434 - val_accuracy: 0.8523\n",
            "Epoch 48/100\n",
            "125/125 [==============================] - 36s 291ms/step - loss: 0.1348 - accuracy: 0.9610 - val_loss: 0.6397 - val_accuracy: 0.8539\n",
            "Epoch 49/100\n",
            "125/125 [==============================] - 37s 292ms/step - loss: 0.1321 - accuracy: 0.9616 - val_loss: 0.6503 - val_accuracy: 0.8524\n",
            "Epoch 50/100\n",
            "125/125 [==============================] - 36s 291ms/step - loss: 0.1288 - accuracy: 0.9627 - val_loss: 0.6626 - val_accuracy: 0.8523\n",
            "Epoch 51/100\n",
            "125/125 [==============================] - 37s 295ms/step - loss: 0.1259 - accuracy: 0.9635 - val_loss: 0.6596 - val_accuracy: 0.8523\n",
            "Epoch 52/100\n",
            "125/125 [==============================] - 36s 291ms/step - loss: 0.1231 - accuracy: 0.9640 - val_loss: 0.6732 - val_accuracy: 0.8516\n",
            "Epoch 53/100\n",
            "125/125 [==============================] - 36s 292ms/step - loss: 0.1201 - accuracy: 0.9650 - val_loss: 0.6767 - val_accuracy: 0.8513\n",
            "Epoch 54/100\n",
            "125/125 [==============================] - 37s 292ms/step - loss: 0.1175 - accuracy: 0.9658 - val_loss: 0.6833 - val_accuracy: 0.8515\n",
            "Epoch 55/100\n",
            "125/125 [==============================] - 37s 292ms/step - loss: 0.1149 - accuracy: 0.9664 - val_loss: 0.6848 - val_accuracy: 0.8520\n",
            "Epoch 56/100\n",
            "125/125 [==============================] - 37s 296ms/step - loss: 0.1126 - accuracy: 0.9670 - val_loss: 0.6837 - val_accuracy: 0.8523\n",
            "Epoch 57/100\n",
            "125/125 [==============================] - 37s 293ms/step - loss: 0.1098 - accuracy: 0.9678 - val_loss: 0.6930 - val_accuracy: 0.8523\n",
            "Epoch 58/100\n",
            "125/125 [==============================] - 37s 294ms/step - loss: 0.1078 - accuracy: 0.9684 - val_loss: 0.6985 - val_accuracy: 0.8524\n",
            "Epoch 59/100\n",
            "125/125 [==============================] - 37s 294ms/step - loss: 0.1052 - accuracy: 0.9688 - val_loss: 0.7111 - val_accuracy: 0.8508\n",
            "Epoch 60/100\n",
            "125/125 [==============================] - 37s 294ms/step - loss: 0.1032 - accuracy: 0.9696 - val_loss: 0.7146 - val_accuracy: 0.8515\n",
            "Epoch 61/100\n",
            "125/125 [==============================] - 37s 295ms/step - loss: 0.1007 - accuracy: 0.9705 - val_loss: 0.7227 - val_accuracy: 0.8506\n",
            "Epoch 62/100\n",
            "125/125 [==============================] - 37s 294ms/step - loss: 0.0993 - accuracy: 0.9704 - val_loss: 0.7248 - val_accuracy: 0.8504\n",
            "Epoch 63/100\n",
            "125/125 [==============================] - 37s 293ms/step - loss: 0.0971 - accuracy: 0.9711 - val_loss: 0.7265 - val_accuracy: 0.8506\n",
            "Epoch 64/100\n",
            "125/125 [==============================] - 37s 296ms/step - loss: 0.0949 - accuracy: 0.9720 - val_loss: 0.7367 - val_accuracy: 0.8505\n",
            "Epoch 65/100\n",
            "125/125 [==============================] - 37s 294ms/step - loss: 0.0929 - accuracy: 0.9723 - val_loss: 0.7412 - val_accuracy: 0.8498\n",
            "Epoch 66/100\n",
            "125/125 [==============================] - 37s 296ms/step - loss: 0.0914 - accuracy: 0.9728 - val_loss: 0.7440 - val_accuracy: 0.8509\n",
            "Epoch 67/100\n",
            "125/125 [==============================] - 37s 295ms/step - loss: 0.0896 - accuracy: 0.9729 - val_loss: 0.7486 - val_accuracy: 0.8503\n",
            "Epoch 68/100\n",
            "125/125 [==============================] - 37s 294ms/step - loss: 0.0878 - accuracy: 0.9737 - val_loss: 0.7629 - val_accuracy: 0.8497\n",
            "Epoch 69/100\n",
            "125/125 [==============================] - 37s 295ms/step - loss: 0.0860 - accuracy: 0.9741 - val_loss: 0.7654 - val_accuracy: 0.8498\n",
            "Epoch 70/100\n",
            "125/125 [==============================] - 37s 294ms/step - loss: 0.0846 - accuracy: 0.9745 - val_loss: 0.7684 - val_accuracy: 0.8497\n",
            "Epoch 71/100\n",
            "125/125 [==============================] - 37s 294ms/step - loss: 0.0829 - accuracy: 0.9751 - val_loss: 0.7709 - val_accuracy: 0.8495\n",
            "Epoch 72/100\n",
            " 73/125 [================>.............] - ETA: 14s - loss: 0.0786 - accuracy: 0.9769"
          ]
        }
      ]
    },
    {
      "cell_type": "code",
      "source": [
        "# Next: inference mode (sampling).\n",
        "# Here's the drill:\n",
        "# 1) encode input and retrieve initial decoder state\n",
        "# 2) run one step of decoder with this initial state\n",
        "# and a \"start of sequence\" token as target.\n",
        "# Output will be the next target token\n",
        "# 3) Repeat with the current target token and current states\n",
        "\n",
        "# Define sampling models\n",
        "encoder_model = Model(encoder_inputs, encoder_states)"
      ],
      "metadata": {
        "id": "FCVE5jMQ5AqM"
      },
      "execution_count": null,
      "outputs": []
    },
    {
      "cell_type": "code",
      "source": [
        "decoder_state_input_h = Input(shape=(latent_dim,))\n",
        "decoder_state_input_c = Input(shape=(latent_dim,))\n",
        "decoder_states_inputs = [decoder_state_input_h, decoder_state_input_c]\n",
        "decoder_outputs, state_h, state_c = decoder_lstm(\n",
        "    decoder_inputs, initial_state=decoder_states_inputs)\n",
        "decoder_states = [state_h, state_c]\n",
        "decoder_outputs = decoder_dense(decoder_outputs)\n",
        "decoder_model = Model(\n",
        "    [decoder_inputs] + decoder_states_inputs,\n",
        "    [decoder_outputs] + decoder_states)"
      ],
      "metadata": {
        "id": "TE35jX685RVh"
      },
      "execution_count": null,
      "outputs": []
    },
    {
      "cell_type": "code",
      "source": [
        "# Reverse-lookup token index to decode sequences back to\n",
        "# something readable.\n",
        "reverse_input_char_index = dict(\n",
        "    (i, char) for char, i in input_token_index.items())\n",
        "reverse_target_char_index = dict(\n",
        "    (i, char) for char, i in target_token_index.items())"
      ],
      "metadata": {
        "id": "eKQIgbCg5Sxk"
      },
      "execution_count": null,
      "outputs": []
    },
    {
      "cell_type": "code",
      "source": [
        "def decode_sequence(input_seq):\n",
        "    # Encode the input as state vectors.\n",
        "    states_value = encoder_model.predict(input_seq)\n",
        "\n",
        "    # Generate empty target sequence of length 1.\n",
        "    target_seq = np.zeros((1, 1, num_decoder_tokens))\n",
        "    # Populate the first character of target sequence with the start character.\n",
        "    target_seq[0, 0, target_token_index['\\t']] = 1.\n",
        "\n",
        "    # Sampling loop for a batch of sequences\n",
        "    # (to simplify, here we assume a batch of size 1).\n",
        "    stop_condition = False\n",
        "    decoded_sentence = ''\n",
        "    while not stop_condition:\n",
        "        output_tokens, h, c = decoder_model.predict(\n",
        "            [target_seq] + states_value)\n",
        "\n",
        "        # Sample a token\n",
        "        sampled_token_index = np.argmax(output_tokens[0, -1, :])\n",
        "        sampled_char = reverse_target_char_index[sampled_token_index]\n",
        "        decoded_sentence += sampled_char\n",
        "\n",
        "        # Exit condition: either hit max length\n",
        "        # or find stop character.\n",
        "        if (sampled_char == '\\n' or\n",
        "           len(decoded_sentence) > max_decoder_seq_length):\n",
        "            stop_condition = True\n",
        "\n",
        "        # Update the target sequence (of length 1).\n",
        "        target_seq = np.zeros((1, 1, num_decoder_tokens))\n",
        "        target_seq[0, 0, sampled_token_index] = 1.\n",
        "\n",
        "        # Update states\n",
        "        states_value = [h, c]\n",
        "\n",
        "    return decoded_sentence"
      ],
      "metadata": {
        "id": "Jf4ZqRee5UeB"
      },
      "execution_count": null,
      "outputs": []
    },
    {
      "cell_type": "code",
      "source": [
        "for seq_index in range(100):\n",
        "    # Take one sequence (part of the training set)\n",
        "    # for trying out decoding.\n",
        "    input_seq = encoder_input_data[seq_index: seq_index + 1]\n",
        "    decoded_sentence = decode_sequence(input_seq)\n",
        "    print('-')\n",
        "    print('Input sentence:', input_texts[seq_index])\n",
        "    print('Decoded sentence:', decoded_sentence)"
      ],
      "metadata": {
        "id": "Y7a6dtO55WyO"
      },
      "execution_count": null,
      "outputs": []
    },
    {
      "cell_type": "code",
      "source": [
        ""
      ],
      "metadata": {
        "id": "QlkVXVvk5YZ4"
      },
      "execution_count": null,
      "outputs": []
    }
  ]
}